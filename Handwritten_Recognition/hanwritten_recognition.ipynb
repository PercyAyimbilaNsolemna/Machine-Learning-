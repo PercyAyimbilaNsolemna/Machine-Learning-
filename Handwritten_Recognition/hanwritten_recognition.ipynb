{
 "cells": [
  {
   "cell_type": "markdown",
   "metadata": {},
   "source": [
    "# Handwritten Digit Recognition"
   ]
  },
  {
   "cell_type": "markdown",
   "metadata": {},
   "source": [
    "This is a model for recognizing a handwritten digit from 0 to 9\n"
   ]
  },
  {
   "cell_type": "markdown",
   "metadata": {},
   "source": [
    "## Importing Packages\n",
    "\n",
    "Imports the below listed libraries\n",
    "\n",
    "- Numpy \n",
    "- Matplotlib\n",
    "- TensorFlow\n",
    "- Scikit learn"
   ]
  },
  {
   "cell_type": "code",
   "execution_count": 1,
   "metadata": {},
   "outputs": [],
   "source": [
    "import numpy as np \n",
    "import matplotlib.pyplot as plt\n",
    "import tensorflow as tf\n",
    "from tensorflow.keras.models import Sequential\n",
    "from tensorflow.keras.layers import Dense\n",
    "from sklearn.model_selection import train_test_split\n",
    "from sklearn.metrics import accuracy_score\n",
    "from sklearn.metrics import mean_squared_error"
   ]
  },
  {
   "cell_type": "markdown",
   "metadata": {},
   "source": [
    "## Loads the handwritten data \n",
    "\n",
    "Loads the handwritten data from http://yann.lecun.com/exdb/mnist/\n",
    "\n",
    "This is the MNIST handwritten digit dataset (http://yann.lecun.com/exdb/mnist/)"
   ]
  },
  {
   "cell_type": "code",
   "execution_count": 2,
   "metadata": {},
   "outputs": [
    {
     "name": "stdout",
     "output_type": "stream",
     "text": [
      "The shape of the training dta is (5000, 400)\n",
      "The shape of the target values is (5000, 1)\n"
     ]
    }
   ],
   "source": [
    "# Loads the training data\n",
    "X = np.load('../Binary_Handwritten_Recognition/Data/X.npy')\n",
    "print(f'The shape of the training dta is {X.shape}')\n",
    "\n",
    "# Loads the target values\n",
    "y = np.load('../Binary_Handwritten_Recognition/Data/y.npy')\n",
    "print(f'The shape of the target values is {y.shape}')"
   ]
  },
  {
   "cell_type": "markdown",
   "metadata": {},
   "source": [
    "## Visualizing the data\n",
    "\n",
    "This outputs few of the training examples and the target values"
   ]
  },
  {
   "cell_type": "code",
   "execution_count": 3,
   "metadata": {},
   "outputs": [
    {
     "name": "stdout",
     "output_type": "stream",
     "text": [
      "The first few training examples are \n",
      " [[0. 0. 0. ... 0. 0. 0.]\n",
      " [0. 0. 0. ... 0. 0. 0.]\n",
      " [0. 0. 0. ... 0. 0. 0.]\n",
      " [0. 0. 0. ... 0. 0. 0.]\n",
      " [0. 0. 0. ... 0. 0. 0.]]\n",
      "The first five target values are \n",
      " [[0]\n",
      " [0]\n",
      " [0]\n",
      " [0]\n",
      " [0]]\n"
     ]
    }
   ],
   "source": [
    "print(f'The first few training examples are \\n {X[:5]}')\n",
    "\n",
    "print(f'The first five target values are \\n {y[:5]}')"
   ]
  },
  {
   "cell_type": "markdown",
   "metadata": {},
   "source": [
    "## Data splitting \n",
    "\n",
    "This ssplits the data into train, cross validation(cv) and test set.\n",
    "\n",
    "The train set will be used to train the model\n",
    "\n",
    "The cross validation set will be used to validate the parameters gained from the train set to minimize variance(overfitting) or bias(underfitting). \n",
    "\n",
    "The test set will be used to test the model chosen after cross validation. \n",
    "\n",
    "40% train set, 20% cross validation(cv) set and 20% test set."
   ]
  },
  {
   "cell_type": "code",
   "execution_count": 6,
   "metadata": {},
   "outputs": [
    {
     "name": "stdout",
     "output_type": "stream",
     "text": [
      "Help on function train_test_split in module sklearn.model_selection._split:\n",
      "\n",
      "train_test_split(*arrays, test_size=None, train_size=None, random_state=None, shuffle=True, stratify=None)\n",
      "    Split arrays or matrices into random train and test subsets.\n",
      "    \n",
      "    Quick utility that wraps input validation,\n",
      "    ``next(ShuffleSplit().split(X, y))``, and application to input data\n",
      "    into a single call for splitting (and optionally subsampling) data into a\n",
      "    one-liner.\n",
      "    \n",
      "    Read more in the :ref:`User Guide <cross_validation>`.\n",
      "    \n",
      "    Parameters\n",
      "    ----------\n",
      "    *arrays : sequence of indexables with same length / shape[0]\n",
      "        Allowed inputs are lists, numpy arrays, scipy-sparse\n",
      "        matrices or pandas dataframes.\n",
      "    \n",
      "    test_size : float or int, default=None\n",
      "        If float, should be between 0.0 and 1.0 and represent the proportion\n",
      "        of the dataset to include in the test split. If int, represents the\n",
      "        absolute number of test samples. If None, the value is set to the\n",
      "        complement of the train size. If ``train_size`` is also None, it will\n",
      "        be set to 0.25.\n",
      "    \n",
      "    train_size : float or int, default=None\n",
      "        If float, should be between 0.0 and 1.0 and represent the\n",
      "        proportion of the dataset to include in the train split. If\n",
      "        int, represents the absolute number of train samples. If None,\n",
      "        the value is automatically set to the complement of the test size.\n",
      "    \n",
      "    random_state : int, RandomState instance or None, default=None\n",
      "        Controls the shuffling applied to the data before applying the split.\n",
      "        Pass an int for reproducible output across multiple function calls.\n",
      "        See :term:`Glossary <random_state>`.\n",
      "    \n",
      "    shuffle : bool, default=True\n",
      "        Whether or not to shuffle the data before splitting. If shuffle=False\n",
      "        then stratify must be None.\n",
      "    \n",
      "    stratify : array-like, default=None\n",
      "        If not None, data is split in a stratified fashion, using this as\n",
      "        the class labels.\n",
      "        Read more in the :ref:`User Guide <stratification>`.\n",
      "    \n",
      "    Returns\n",
      "    -------\n",
      "    splitting : list, length=2 * len(arrays)\n",
      "        List containing train-test split of inputs.\n",
      "    \n",
      "        .. versionadded:: 0.16\n",
      "            If the input is sparse, the output will be a\n",
      "            ``scipy.sparse.csr_matrix``. Else, output type is the same as the\n",
      "            input type.\n",
      "    \n",
      "    Examples\n",
      "    --------\n",
      "    >>> import numpy as np\n",
      "    >>> from sklearn.model_selection import train_test_split\n",
      "    >>> X, y = np.arange(10).reshape((5, 2)), range(5)\n",
      "    >>> X\n",
      "    array([[0, 1],\n",
      "           [2, 3],\n",
      "           [4, 5],\n",
      "           [6, 7],\n",
      "           [8, 9]])\n",
      "    >>> list(y)\n",
      "    [0, 1, 2, 3, 4]\n",
      "    \n",
      "    >>> X_train, X_test, y_train, y_test = train_test_split(\n",
      "    ...     X, y, test_size=0.33, random_state=42)\n",
      "    ...\n",
      "    >>> X_train\n",
      "    array([[4, 5],\n",
      "           [0, 1],\n",
      "           [6, 7]])\n",
      "    >>> y_train\n",
      "    [2, 0, 3]\n",
      "    >>> X_test\n",
      "    array([[2, 3],\n",
      "           [8, 9]])\n",
      "    >>> y_test\n",
      "    [1, 4]\n",
      "    \n",
      "    >>> train_test_split(y, shuffle=False)\n",
      "    [[0, 1, 2], [3, 4]]\n",
      "\n",
      "The shape  of the training data is (3000, 400)\n",
      "The shape of the target values is (3000, 1) \n",
      "\n",
      "The shape of the cross validation data is (1000, 400)\n",
      "The shape of the cross validation target values is (1000, 1) \n",
      "\n",
      "The shape of the test training data is (1000, 400)\n",
      "The shape of the test set target value is (1000, 1)\n"
     ]
    }
   ],
   "source": [
    "help(train_test_split)\n",
    "#This splits the data into train set and X_ and y_ which will inturn be subdided into cross validation and test set\n",
    "X_train, X_, y_train, y_ = train_test_split(X, y, train_size=0.6, random_state=1)\n",
    "print(f'The shape  of the training data is {X_train.shape}')\n",
    "print(f'The shape of the target values is {y_train.shape} \\n')\n",
    "\n",
    "X_cv, X_test, y_cv, y_test = train_test_split(X_, y_, test_size=0.5, random_state=1)\n",
    "print(f'The shape of the cross validation data is {X_cv.shape}')\n",
    "print(f'The shape of the cross validation target values is {y_cv.shape} \\n')\n",
    "\n",
    "print(f'The shape of the test training data is {X_test.shape}')\n",
    "print(f'The shape of the test set target value is {y_test.shape}')\n",
    "\n",
    "del X_, y_"
   ]
  },
  {
   "cell_type": "markdown",
   "metadata": {},
   "source": [
    "## Data Description\n",
    "\n",
    "The training data has a shape of 5000 by 400 where 400 represents the features in a 20 by 20 pixels of a handwritten digit.\n",
    "\n",
    "Outputting the 20 by 20 pixels of any of the training data shows the exact handwritten digit\n",
    "\n",
    "The corresponding y value shows the exact handwritten digit for that specific training example"
   ]
  },
  {
   "cell_type": "code",
   "execution_count": 5,
   "metadata": {},
   "outputs": [
    {
     "data": {
      "image/png": "[encoded data removed]",
      "text/plain": [
       "<Figure size 800x800 with 64 Axes>"
      ]
     },
     "metadata": {},
     "output_type": "display_data"
    }
   ],
   "source": [
    "import warnings\n",
    "warnings.simplefilter(action='ignore', category=FutureWarning)\n",
    "\n",
    "m, n = X_train.shape\n",
    "\n",
    "fig, axes = plt.subplots(8,8, figsize=(8,8))\n",
    "fig.tight_layout(pad=0.1)\n",
    "\n",
    "for i, ax in enumerate(axes.flat):\n",
    "    #Selects a random number within the training data range\n",
    "    random_index = np.random.randint(m)\n",
    "\n",
    "    #Selects row corresponding to the random index and \n",
    "    #Reshapes the image\n",
    "    X_random_reshaped = X_train[random_index].reshape((20,20)).T\n",
    "\n",
    "    #Display the image\n",
    "    ax.imshow(X_random_reshaped, cmap='gray')\n",
    "\n",
    "    #Dispalys the target value as a value above the image\n",
    "    ax.set_title(y_train[random_index, 0])\n",
    "    ax.set_axis_off()\n",
    "\n"
   ]
  },
  {
   "cell_type": "markdown",
   "metadata": {},
   "source": [
    "## Defines the model\n",
    "\n",
    "This defines different models with different layers but the same activation functions for the handwrittent recognition\n",
    "\n",
    "These models will be trained on the training data set and based on the total cost(mean squared error) of the training data set and the cross validation set.\n",
    "\n",
    "A suitable model will be chose based on the analysis or the model will be fine-tuned to get a well suitable parameters that fit the data well and generalizes very well (just right model) "
   ]
  },
  {
   "cell_type": "code",
   "execution_count": 36,
   "metadata": {},
   "outputs": [],
   "source": [
    "models = [\n",
    "    Sequential(\n",
    "        [\n",
    "            Dense(units=25, activation='relu'),\n",
    "            Dense(units=15, activation='relu'),\n",
    "            Dense(units=10, activation='linear')\n",
    "        ],  name = 'Model_1'\n",
    "), \n",
    "\n",
    "Sequential(\n",
    "    [\n",
    "        Dense(units=5, activation='relu'),\n",
    "        Dense(units=10, activation='linear')\n",
    "    ], name = 'Model_2'\n",
    "), \n",
    "\n",
    "Sequential(\n",
    "    [\n",
    "        Dense(units=30, activation='relu'),\n",
    "        Dense(units=35, activation='relu'),\n",
    "        Dense(units=20, activation='relu'),\n",
    "        Dense(units=16, activation='relu'),\n",
    "        Dense(units=40, activation='relu'),\n",
    "        Dense(units=10, activation='linear')\n",
    "    ], name = 'Model_3'\n",
    "), \n",
    "\n",
    "Sequential(\n",
    "    [\n",
    "        Dense(units=30, activation='relu', kernel_regularizer = tf.keras.regularizers.l2(0.1)),\n",
    "        Dense(units=35, activation='relu', kernel_regularizer = tf.keras.regularizers.l2(0.1)),\n",
    "        Dense(units=20, activation='relu', kernel_regularizer = tf.keras.regularizers.l2(0.1)),\n",
    "        Dense(units=16, activation='relu', kernel_regularizer = tf.keras.regularizers.l2(0.1)),\n",
    "        Dense(units=40, activation='relu', kernel_regularizer = tf.keras.regularizers.l2(0.1)),\n",
    "        Dense(units=10, activation='linear')\n",
    "    ], name = 'Model_4'\n",
    ")\n",
    "]\n",
    "\n",
    "optimizing_model = [\n",
    "    Sequential(\n",
    "    [\n",
    "        Dense(units=30, activation='relu', kernel_regularizer = tf.keras.regularizers.l2(0.0004)),\n",
    "        Dense(units=35, activation='relu', kernel_regularizer = tf.keras.regularizers.l2(0.0004)),\n",
    "        Dense(units=20, activation='relu', kernel_regularizer = tf.keras.regularizers.l2(0.0004)),\n",
    "        Dense(units=16, activation='relu', kernel_regularizer = tf.keras.regularizers.l2(0.0004)),\n",
    "        Dense(units=40, activation='relu', kernel_regularizer = tf.keras.regularizers.l2(0.0004)),\n",
    "        Dense(units=10, activation='linear')\n",
    "    ], name = 'Model_4'\n",
    ")\n",
    "]\n"
   ]
  },
  {
   "cell_type": "markdown",
   "metadata": {},
   "source": [
    "## Trains the neural network\n",
    "\n",
    "This trains the neural network using the training data and the data specified below\n",
    "\n",
    "- Trains the neural network using the X_train dataset\n",
    "\n",
    "- Trains the training the data using the models specified in the above code\n",
    "\n",
    "- Validates the each of the models using the cross validation dataset to select the best model for fine-tune the models\n",
    "\n",
    "- Specifies and imports the SparseCategoricalCrossentropy cost function to be used to train the neural network. Since the output layer is a    softmax (multilabel layer), the from_logits parameter in the function will be set to true.\n",
    "\n",
    "- The from_logits set to True shows that the last layer in the neural network is multilable classification hence tensorFlow uses a more error tolerating softmax function as the activation function for that layer, reducing run-off errors\n",
    "\n",
    "- Specifies the Adaptive Gradient Descent (Adam) optimizer to used during training to enable gradiesnt descent get to the local minimum faster which inturn speeds up the training process\n",
    "\n",
    "- Specifies the epochs (number of iterations) during training for each of the models"
   ]
  },
  {
   "cell_type": "code",
   "execution_count": 38,
   "metadata": {},
   "outputs": [
    {
     "name": "stdout",
     "output_type": "stream",
     "text": [
      "Training Model_1 ...\n",
      "Done! \n",
      "\n",
      "94/94 [==============================] - 1s 10ms/step\n",
      "32/32 [==============================] - 0s 10ms/step\n",
      "Training Model_2 ...\n",
      "Done! \n",
      "\n",
      "94/94 [==============================] - 1s 9ms/step\n",
      "32/32 [==============================] - 0s 8ms/step\n",
      "Training Model_3 ...\n",
      "Done! \n",
      "\n",
      "94/94 [==============================] - 1s 7ms/step\n",
      "32/32 [==============================] - 0s 6ms/step\n",
      "Training Model_4 ...\n",
      "Done! \n",
      "\n",
      "94/94 [==============================] - 1s 7ms/step\n",
      "32/32 [==============================] - 0s 8ms/step\n",
      "RESULTS\n",
      "Model 1: Training MSE: 0.00, Model 1: CV MSE: 0.57\n",
      "Model 2: Training MSE: 0.56, Model 2: CV MSE: 0.91\n",
      "Model 3: Training MSE: 0.00, Model 3: CV MSE: 0.66\n",
      "Model 4: Training MSE: 5.20, Model 4: CV MSE: 5.34\n"
     ]
    }
   ],
   "source": [
    "#Imports the SparseCategoricalCrossentropy loss from tensorFlow\n",
    "from tensorflow.keras.losses import SparseCategoricalCrossentropy\n",
    "\n",
    "#Imports the Adaptive Gradient Descent(Adam) optimizer from tensorFlow\n",
    "from tensorflow.keras.optimizers import Adam\n",
    "\n",
    "#Iterates through each of the models, train the neural networks and outpust the mean squared error for both\n",
    "#The training data nd the cross validation data\n",
    "\n",
    "train_mses = []\n",
    "cv_mses = []\n",
    "\n",
    "for model in models:\n",
    "    model.compile(\n",
    "        loss = SparseCategoricalCrossentropy(from_logits=True),\n",
    "        optimizer = Adam(0.001)\n",
    "    )\n",
    "\n",
    "    print(f'Training {model.name} ...')\n",
    "\n",
    "    model.fit(\n",
    "        X_train, y_train, \n",
    "        epochs=100,\n",
    "        verbose=0\n",
    "        )\n",
    "\n",
    "    print('Done! \\n')\n",
    "\n",
    "    #Record the training MSEs\n",
    "    yhat = model.predict(X_train)\n",
    "    yhat = np.argmax(yhat, axis=1)\n",
    "    train_mse = mean_squared_error(y_train, yhat) / 2\n",
    "    train_mses.append(train_mse)\n",
    "\n",
    "    #Record the cross validation MSEs\n",
    "    yhat = model.predict(X_cv)\n",
    "    yhat = np.argmax(yhat, axis=1)\n",
    "    cv_mse = mean_squared_error(y_cv, yhat) /2\n",
    "    cv_mses.append(cv_mse)\n",
    "\n",
    "print('RESULTS')\n",
    "for model_num in range(len(train_mses)):\n",
    "    print(\n",
    "        f'Model {model_num+1}: Training MSE: {train_mses[model_num]:.2f}, ' +\n",
    "        f'Model {model_num+1}: CV MSE: {cv_mses[model_num]:.2f}'\n",
    "    )"
   ]
  },
  {
   "cell_type": "markdown",
   "metadata": {},
   "source": [
    "## Training and cross validation MSE analysis\n",
    "\n",
    "- The training MSE for the training set is 0.0 but the MSE for tge cross validation is 0.72 which is an indication of overfitting (High variance). Since the cross validation is the second lowest, it is not preferred\n",
    "\n",
    "- The training MSE for the training set is 0.42 which indicates underfitting (High bias), the model does not fit the training data well and hence performs poorly on the cross validation set. \n",
    "\n",
    "- The training MSE for the training set is 0 with the smallest MSE cross validation which indicates overfitting (High variance). Since this model has the smallest cross validation, it is the preferred one. \n",
    "\n",
    "- Model_3 will be regularized to fix overfitting"
   ]
  }
 ],
 "metadata": {
  "kernelspec": {
   "display_name": "Python 3",
   "language": "python",
   "name": "python3"
  },
  "language_info": {
   "codemirror_mode": {
    "name": "ipython",
    "version": 3
   },
   "file_extension": ".py",
   "mimetype": "text/x-python",
   "name": "python",
   "nbconvert_exporter": "python",
   "pygments_lexer": "ipython3",
   "version": "3.9.2"
  }
 },
 "nbformat": 4,
 "nbformat_minor": 2
}

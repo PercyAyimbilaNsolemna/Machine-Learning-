{
 "cells": [
  {
   "cell_type": "markdown",
   "metadata": {},
   "source": [
    "# Implementation of Matrix Vectorization"
   ]
  },
  {
   "cell_type": "markdown",
   "metadata": {},
   "source": [
    "## Imports the numpy library or package "
   ]
  },
  {
   "cell_type": "code",
   "execution_count": 7,
   "metadata": {},
   "outputs": [],
   "source": [
    "import numpy as np"
   ]
  },
  {
   "cell_type": "markdown",
   "metadata": {},
   "source": [
    "## Creates two different np arrays(2D matrices)"
   ]
  },
  {
   "cell_type": "code",
   "execution_count": 12,
   "metadata": {},
   "outputs": [
    {
     "name": "stdout",
     "output_type": "stream",
     "text": [
      "[[ 1.  -1.   0.1]\n",
      " [ 2.  -2.   0.2]]\n",
      "The shape of A is (2, 3)\n",
      "[[3 5 7 9]\n",
      " [4 6 8 0]]\n",
      "The shape of W is (2, 4)\n"
     ]
    }
   ],
   "source": [
    "# Creates a 2 by 3 matrix\n",
    "A = np.array([[1, -1, 0.1],\n",
    "              [2, -2, 0.2]])\n",
    "print(A)\n",
    "print(f'The shape of A is {A.shape}')\n",
    "\n",
    "#Creates a 2 by 4 array for the weight W\n",
    "W = np.array([[3, 5, 7, 9],\n",
    "               [4, 6, 8, 0]])\n",
    "print(W)\n",
    "print(f'The shape of W is {W.shape}')"
   ]
  },
  {
   "cell_type": "markdown",
   "metadata": {},
   "source": [
    "## Calculates the transpose of the matrix A "
   ]
  },
  {
   "cell_type": "code",
   "execution_count": 17,
   "metadata": {},
   "outputs": [
    {
     "name": "stdout",
     "output_type": "stream",
     "text": [
      "The transpose of matrix A is \n",
      " [[ 1.   2. ]\n",
      " [-1.  -2. ]\n",
      " [ 0.1  0.2]]\n",
      "The shape of the transpose of the matrix A is (3, 2)\n"
     ]
    }
   ],
   "source": [
    "# Calculates the transpose of A\n",
    "AT = A.T\n",
    "print(f'The transpose of matrix A is \\n {AT}')\n",
    "print(f'The shape of the transpose of the matrix A is {AT.shape}')"
   ]
  },
  {
   "cell_type": "markdown",
   "metadata": {},
   "source": [
    "## Calculates the dot product of the matrices AT and W using numpy matmul method"
   ]
  },
  {
   "cell_type": "code",
   "execution_count": 21,
   "metadata": {},
   "outputs": [
    {
     "name": "stdout",
     "output_type": "stream",
     "text": [
      "The dot product of the matrices AT and W is \n",
      " [[ 11.   17.   23.    9. ]\n",
      " [-11.  -17.  -23.   -9. ]\n",
      " [  1.1   1.7   2.3   0.9]]\n",
      "The shape of the dot product is (3, 4)\n"
     ]
    }
   ],
   "source": [
    "# Calculates the dot product using matmul\n",
    "z = np.matmul(AT, W)\n",
    "print(f'The dot product of the matrices AT and W is \\n {z}')\n",
    "print(f'The shape of the dot product is {z.shape}')"
   ]
  },
  {
   "cell_type": "markdown",
   "metadata": {},
   "source": [
    "## Calculates the dot product using the @ symbol"
   ]
  },
  {
   "cell_type": "code",
   "execution_count": 26,
   "metadata": {},
   "outputs": [
    {
     "name": "stdout",
     "output_type": "stream",
     "text": [
      "The dot product of AT and W using the @ symboil is \n",
      " [[ 11.   17.   23.    9. ]\n",
      " [-11.  -17.  -23.   -9. ]\n",
      " [  1.1   1.7   2.3   0.9]]\n",
      "The shape of the dot product of AT and W is (3, 4)\n"
     ]
    }
   ],
   "source": [
    "# Calculates the dot product using the @ symbol\n",
    "z_1 = AT @ W\n",
    "print(f'The dot product of AT and W using the @ symboil is \\n {z_1}')\n",
    "print(f'The shape of the dot product of AT and W is {z_1.shape}')"
   ]
  }
 ],
 "metadata": {
  "kernelspec": {
   "display_name": "Python 3",
   "language": "python",
   "name": "python3"
  },
  "language_info": {
   "codemirror_mode": {
    "name": "ipython",
    "version": 3
   },
   "file_extension": ".py",
   "mimetype": "text/x-python",
   "name": "python",
   "nbconvert_exporter": "python",
   "pygments_lexer": "ipython3",
   "version": "3.9.2"
  }
 },
 "nbformat": 4,
 "nbformat_minor": 2
}

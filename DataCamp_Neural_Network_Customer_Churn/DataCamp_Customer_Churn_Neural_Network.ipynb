{
  "nbformat": 4,
  "nbformat_minor": 0,
  "metadata": {
    "colab": {
      "provenance": [],
      "authorship_tag": "ABX9TyNOfcYYSb7dopM58ywAytIP",
      "include_colab_link": true
    },
    "kernelspec": {
      "name": "python3",
      "display_name": "Python 3"
    },
    "language_info": {
      "name": "python"
    }
  },
  "cells": [
    {
      "cell_type": "markdown",
      "metadata": {
        "id": "view-in-github",
        "colab_type": "text"
      },
      "source": [
        "<a href=\"https://colab.research.google.com/github/PercyAyimbilaNsolemna/Machine_Learning/blob/main/DataCamp_Neural_Network_Customer_Churn/DataCamp_Customer_Churn_Neural_Network.ipynb\" target=\"_parent\"><img src=\"https://colab.research.google.com/assets/colab-badge.svg\" alt=\"Open In Colab\"/></a>"
      ]
    },
    {
      "cell_type": "markdown",
      "source": [
        "# **DATACAMP COURSE_1: CLASSIFICATION**\n",
        "This notebook implements the Logistic Regression used in the classification course to develop a model for the churn dataset.\n",
        "\n",
        "This implementation uses the Neural Networks to develop the model for the problem.\n",
        "\n",
        "The **Logistic Regression Algorithm** is used here because the target values of our dataset is binary. That is, either a **customer churns** **1** or a **customer does not churn** **0**\n",
        "\n",
        "\n",
        "**A simple Neural Network** implementation to compare the performance of the normal Logistic Regression ML algorithm used in the previous notebook"
      ],
      "metadata": {
        "id": "Erz8NMdd_UkO"
      }
    },
    {
      "cell_type": "code",
      "source": [
        "#Imports numpy\n",
        "import numpy as np\n",
        "#Imports pandas\n",
        "import pandas as pd\n",
        "#Import the train_test_split from sklearn model selection\n",
        "from sklearn.model_selection import train_test_split\n",
        "#Imports StandardScaler from scikitlearn preprocessing\n",
        "from sklearn.preprocessing import StandardScaler\n",
        "#Imports the Sequential model from tensorflow\n",
        "from tensorflow.keras.models import Sequential\n",
        "#Imporst the Dense layer from tensorflow layers\n",
        "from tensorflow.keras.layers import Dense\n",
        "#Imports OneHotEncoder from sklearn preprocessing\n",
        "from sklearn.preprocessing import OneHotEncoder\n",
        "#Imports warning\n",
        "import warnings\n",
        "warnings.simplefilter(action='ignore', category=FutureWarning)"
      ],
      "metadata": {
        "id": "bYfcp7ZH88pG"
      },
      "execution_count": 2,
      "outputs": []
    },
    {
      "cell_type": "code",
      "source": [],
      "metadata": {
        "id": "ScHI92d6A_0f"
      },
      "execution_count": null,
      "outputs": []
    }
  ]
}
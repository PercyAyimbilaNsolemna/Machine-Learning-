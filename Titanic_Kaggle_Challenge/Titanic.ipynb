{
  "nbformat": 4,
  "nbformat_minor": 0,
  "metadata": {
    "colab": {
      "provenance": [],
      "authorship_tag": "ABX9TyPN0tget9RpnJRzggV00xCE",
      "include_colab_link": true
    },
    "kernelspec": {
      "name": "python3",
      "display_name": "Python 3"
    },
    "language_info": {
      "name": "python"
    }
  },
  "cells": [
    {
      "cell_type": "markdown",
      "metadata": {
        "id": "view-in-github",
        "colab_type": "text"
      },
      "source": [
        "<a href=\"https://colab.research.google.com/github/PercyAyimbilaNsolemna/Machine_Learning/blob/main/Titanic_Kaggle_Challenge/Titanic.ipynb\" target=\"_parent\"><img src=\"https://colab.research.google.com/assets/colab-badge.svg\" alt=\"Open In Colab\"/></a>"
      ]
    },
    {
      "cell_type": "markdown",
      "source": [
        "# **KAGGLE TITANIC CHALLENGE SOLUTION**\n",
        "\n",
        "Implementation of kaggle titanic challenge using Deep Learning (Neural Networks)"
      ],
      "metadata": {
        "id": "gWvmuLXwm7aq"
      }
    },
    {
      "cell_type": "markdown",
      "source": [
        "## **IMPORTING LIBRARIES**\n",
        "\n",
        "This section imports all the libraries that will be used in building the neural network"
      ],
      "metadata": {
        "id": "7UAIT-fHO1Bg"
      }
    },
    {
      "cell_type": "code",
      "execution_count": 2,
      "metadata": {
        "id": "pSEhKZ-qlh9g"
      },
      "outputs": [],
      "source": [
        "#Imports numpy as np\n",
        "import numpy as np\n",
        "#Imports pandas as pd\n",
        "import pandas as pd\n",
        "#Imports tensorflow as tf\n",
        "import tensorflow as tf\n",
        "#Imports train_test_split from scikit learn model_selection\n",
        "from sklearn.model_selection import train_test_split\n",
        "#Imports StandardScaler from scikit learn preprocessing\n",
        "from sklearn.preprocessing import StandardScaler\n",
        "#Imports mean squared error from scikit learn metrics\n",
        "from sklearn.metrics import mean_squared_error\n",
        "#Imports accuracy score from scikit learn metrics\n",
        "from sklearn.metrics import accuracy_score\n",
        "#Imports Sequential model from tensorflow keras model\n",
        "from tensorflow.keras.models import Sequential\n",
        "#Imports the Dense layer from tensorflow keras layers\n",
        "from tensorflow.keras.layers import Dense\n",
        "#Imports OneHotEncode from sklearn preprocessing\n",
        "from sklearn.preprocessing import OneHotEncoder\n",
        "#Imports warning and supress all future warnings\n",
        "import warnings\n",
        "warnings.simplefilter(action='ignore', category=FutureWarning)"
      ]
    },
    {
      "cell_type": "markdown",
      "source": [],
      "metadata": {
        "id": "CPU5j_mamtOb"
      }
    }
  ]
}